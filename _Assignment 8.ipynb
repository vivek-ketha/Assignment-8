{
 "cells": [
  {
   "cell_type": "markdown",
   "id": "45b9629c",
   "metadata": {},
   "source": [
    "# Assignment 8"
   ]
  },
  {
   "cell_type": "markdown",
   "id": "d03a1439",
   "metadata": {},
   "source": [
    "1. No. PyInputPlus is a third-party module and doesn’t come with the Python Standard Library.\n",
    "\n",
    "2. This optionally makes your code shorter to type: you can type pyip.inputStr() instead of pyinputplus.inputStr().\n",
    "\n",
    "3. The inputInt() function returns an int value, while the inputFloat() function returns a float value. This is the difference between returning 4 and 4.0.\n",
    "\n",
    "4. Call pyip.inputint(min=0, max=99).\n",
    "\n",
    "5. A list of regex strings that are either explicitly allowed or denied\n",
    "\n",
    "6. The function will raise RetryLimitException.\n",
    "\n",
    "7. The function returns the value 'hello'."
   ]
  }
 ],
 "metadata": {
  "kernelspec": {
   "display_name": "Python 3",
   "language": "python",
   "name": "python3"
  },
  "language_info": {
   "codemirror_mode": {
    "name": "ipython",
    "version": 3
   },
   "file_extension": ".py",
   "mimetype": "text/x-python",
   "name": "python",
   "nbconvert_exporter": "python",
   "pygments_lexer": "ipython3",
   "version": "3.8.8"
  }
 },
 "nbformat": 4,
 "nbformat_minor": 5
}
